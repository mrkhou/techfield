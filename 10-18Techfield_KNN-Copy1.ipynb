{
 "cells": [
  {
   "cell_type": "code",
   "execution_count": 48,
   "metadata": {},
   "outputs": [],
   "source": [
    "import numpy as np\n",
    "import matplotlib.pyplot as plt\n",
    "\n",
    "%matplotlib inline"
   ]
  },
  {
   "cell_type": "code",
   "execution_count": 49,
   "metadata": {},
   "outputs": [],
   "source": [
    "def uniform_weights(dists, epsilon):\n",
    "    K = len(dists)\n",
    "    return np.array([1/K]*K)\n",
    "\n",
    "def reciprocal_weights(dists, epsilon = 1e-2):\n",
    "    return 1/(np.sqrt(dists) + epsilon)\n",
    "\n",
    "def gauss_weights(dists, *args):\n",
    "    ed = np.exp(dists)\n",
    "    return ed/np.sum(ed)\n",
    "\n",
    "def accuracy(y,y_hat):\n",
    "    return np.mean(y == y_hat)\n",
    "\n",
    "def R2(y, y_hat):\n",
    "    return 1 - np.sum((y - y_hat)**2)/np.sum((y - y.mean())**2)"
   ]
  },
  {
   "cell_type": "code",
   "execution_count": 55,
   "metadata": {},
   "outputs": [],
   "source": [
    "class KNN():\n",
    "    def __init__(self,K, p = 2, weigh_function = uniform_weights, epsilon = 1e-2, mode = 0):\n",
    "        self.K = K\n",
    "        self.p = p\n",
    "        self.weigh_function = weigh_function\n",
    "        self.epsilon = epsilon\n",
    "        self.mode = mode\n",
    "        \n",
    "    def fit(self, X, y):\n",
    "        self.X = X \n",
    "        self.y = y \n",
    "    \n",
    "    def predict(self, X):\n",
    "        \n",
    "        N = len(X)\n",
    "        \n",
    "        y_hat = np.zeros(N)\n",
    "        \n",
    "        for i in range(N):\n",
    "            dists = np.sum((self.X - X[i])**2, axis = 1)\n",
    "            idx = dists.argsort()[:self.K]   #the distance\n",
    "            gamma = self.weigh_function(dists[idx],epsilon = self.epsilon)\n",
    "            \n",
    "            if self.mode:\n",
    "                y_hat[i] = gamma.dot(self.y[idx])/gamma.sum()\n",
    "            else:\n",
    "                y_hat[i] = np.bincount(self.y[idx], weights = gamma).argmax() #bincount count the number of time for number in a list occurs    \n",
    "        \n",
    "        return y_hat"
   ]
  },
  {
   "cell_type": "code",
   "execution_count": 51,
   "metadata": {},
   "outputs": [],
   "source": [
    "from matplotlib.colors import ListedColormap"
   ]
  },
  {
   "cell_type": "code",
   "execution_count": 52,
   "metadata": {},
   "outputs": [],
   "source": [
    "def main():\n",
    "    D = 2\n",
    "    K = 3\n",
    "    N = int(K*1e3)\n",
    "    \n",
    "    X0 = np.random.randn((N//K),D) + np.array([2,2])\n",
    "    X1 = np.random.randn((N//K),D) + np.array([0, - 2])\n",
    "    X2 = np.random.randn((N//K),D) + np.array([-2,2])\n",
    "    X = np.vstack((X0, X1, X2))\n",
    "    \n",
    "    y = np.array([0]*(N//K)+[1]*(N//K)+[2]*(N//K))\n",
    "    \n",
    "    plt.figure()\n",
    "    plt.scatter(X[:,0], X[:,1], c=y, alpha = 0.5)\n",
    "    plt.show()\n",
    "    \n",
    "    \n",
    "    knn = KNN(9)\n",
    "    knn.fit(X,y)\n",
    "    y_hat = knn.predict(X)\n",
    "    \n",
    "    print(f'Trainninng acuuracy: {accuracy(y, y_hat):0.4f}')\n",
    "    "
   ]
  },
  {
   "cell_type": "code",
   "execution_count": 69,
   "metadata": {},
   "outputs": [],
   "source": [
    "def main_reg():\n",
    "    N = 250\n",
    "    \n",
    "    X = np.linspace(0,20,N).reshape(N,1)\n",
    "    \n",
    "    y = 9.2322 + 8.2933*np.sqrt(X) -8.234 * np.exp(-(X-7.43)**2) - 0.989*np.exp(-(X - 2.90)) + np.random.randn(N, 1) * 1.7\n",
    "    \n",
    "    plt.figure()\n",
    "    plt.scatter(X,y)\n",
    "    plt.show()\n",
    "    \n",
    "    knn = KNN(K = 50, mode = 1)\n",
    "    knn.fit(X,y)\n",
    "    y_hat = knn.predict(X)\n",
    "    \n",
    "    print(f'Trainninng R_squared: {R2(y, y_hat):0.4f}')\n",
    "    \n",
    "    plt.figure()\n",
    "    plt.scatter(X,y)\n",
    "    plt.plot(X, y_hat, color = \"r\", linewidth = 2)\n",
    "    plt.show()"
   ]
  },
  {
   "cell_type": "code",
   "execution_count": 70,
   "metadata": {},
   "outputs": [
    {
     "data": {
      "image/png": "[encoded data removed]",
      "text/plain": [
       "<Figure size 432x288 with 1 Axes>"
      ]
     },
     "metadata": {
      "needs_background": "light"
     },
     "output_type": "display_data"
    },
    {
     "name": "stdout",
     "output_type": "stream",
     "text": [
      "Trainninng R_squared: -426.7353\n"
     ]
    },
    {
     "data": {
      "image/png": "[encoded data removed]",
      "text/plain": [
       "<Figure size 432x288 with 1 Axes>"
      ]
     },
     "metadata": {
      "needs_background": "light"
     },
     "output_type": "display_data"
    }
   ],
   "source": [
    "if __name__ == '__main__':\n",
    "    main_reg()"
   ]
  },
  {
   "cell_type": "code",
   "execution_count": null,
   "metadata": {},
   "outputs": [],
   "source": []
  }
 ],
 "metadata": {
  "kernelspec": {
   "display_name": "Python 3",
   "language": "python",
   "name": "python3"
  },
  "language_info": {
   "codemirror_mode": {
    "name": "ipython",
    "version": 3
   },
   "file_extension": ".py",
   "mimetype": "text/x-python",
   "name": "python",
   "nbconvert_exporter": "python",
   "pygments_lexer": "ipython3",
   "version": "3.7.3"
  }
 },
 "nbformat": 4,
 "nbformat_minor": 2
}
